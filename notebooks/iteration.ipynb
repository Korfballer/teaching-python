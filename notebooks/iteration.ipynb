{
 "cells": [
  {
   "cell_type": "markdown",
   "id": "f19530f9",
   "metadata": {},
   "source": [
    "# Iteration"
   ]
  },
  {
   "attachments": {},
   "cell_type": "markdown",
   "id": "04464c3a",
   "metadata": {},
   "source": [
    "* List comprehensions\n",
    "* Enumeration\n",
    "* Dictionary comprehensions\n",
    "* Simultaneous iteration with `zip()`\n",
    "* Lambda functions\n",
    "* Generators"
   ]
  },
  {
   "attachments": {},
   "cell_type": "markdown",
   "id": "880e9604",
   "metadata": {},
   "source": [
    "## 1. Setup"
   ]
  },
  {
   "attachments": {},
   "cell_type": "markdown",
   "id": "0ecd1768",
   "metadata": {},
   "source": [
    "Imports"
   ]
  },
  {
   "cell_type": "code",
   "execution_count": 10,
   "id": "a7c09e3f",
   "metadata": {},
   "outputs": [],
   "source": [
    "# Standard library imports\n",
    "import itertools"
   ]
  },
  {
   "attachments": {},
   "cell_type": "markdown",
   "id": "51775012",
   "metadata": {},
   "source": [
    "## 1. Tips & Tricks"
   ]
  },
  {
   "attachments": {},
   "cell_type": "markdown",
   "id": "042772fe",
   "metadata": {},
   "source": [
    "### 1.1 List Comprehensions"
   ]
  },
  {
   "cell_type": "code",
   "execution_count": 11,
   "id": "7b3aaa9a",
   "metadata": {},
   "outputs": [],
   "source": [
    "# 10 square numbers\n",
    "square_numbers = [i**2 for i in range(1, 11)]"
   ]
  },
  {
   "cell_type": "code",
   "execution_count": 12,
   "id": "4026ff1a",
   "metadata": {},
   "outputs": [],
   "source": [
    "shape_name = [\"triangle\", \"square\", \"rhombus\", \"pentagon\", \"octagon\"]\n",
    "shape_sides = [3, 4, 4, 5, 8]"
   ]
  },
  {
   "attachments": {},
   "cell_type": "markdown",
   "id": "e3db94fd",
   "metadata": {},
   "source": [
    "### 1.2 Enumerate"
   ]
  },
  {
   "cell_type": "code",
   "execution_count": 13,
   "id": "61251014",
   "metadata": {},
   "outputs": [],
   "source": [
    "# 9 numbers from the fibonacci sequence\n",
    "fibonacci = [1, 1, 2, 3, 5, 8, 13, 21, 34]"
   ]
  },
  {
   "cell_type": "code",
   "execution_count": 14,
   "id": "5431b61a",
   "metadata": {},
   "outputs": [
    {
     "name": "stdout",
     "output_type": "stream",
     "text": [
      "At index position 0, is the fibonacci number 1\n",
      "At index position 1, is the fibonacci number 1\n",
      "At index position 2, is the fibonacci number 2\n",
      "At index position 3, is the fibonacci number 3\n",
      "At index position 4, is the fibonacci number 5\n",
      "At index position 5, is the fibonacci number 8\n",
      "At index position 6, is the fibonacci number 13\n",
      "At index position 7, is the fibonacci number 21\n",
      "At index position 8, is the fibonacci number 34\n"
     ]
    }
   ],
   "source": [
    "for i, f in enumerate(fibonacci):\n",
    "\n",
    "    print(f\"At index position {i}, is the fibonacci number {f}\")"
   ]
  },
  {
   "attachments": {},
   "cell_type": "markdown",
   "id": "f272242d",
   "metadata": {},
   "source": [
    "### 1.3. Dictionary Comprehensions and Zip"
   ]
  },
  {
   "cell_type": "code",
   "execution_count": 15,
   "id": "ff095fde",
   "metadata": {},
   "outputs": [],
   "source": [
    "shape_name = [\"triangle\", \"square\", \"rhombus\", \"pentagon\", \"octagon\"]\n",
    "shape_sides = [3, 4, 4, 5, 8]\n",
    "\n",
    "shapes = {name: sides for name, sides in zip(shape_name, shape_sides)}"
   ]
  },
  {
   "cell_type": "code",
   "execution_count": 16,
   "id": "1b711360",
   "metadata": {},
   "outputs": [
    {
     "data": {
      "text/plain": [
       "{'triangle': 3, 'square': 4, 'rhombus': 4, 'pentagon': 5, 'octagon': 8}"
      ]
     },
     "execution_count": 16,
     "metadata": {},
     "output_type": "execute_result"
    }
   ],
   "source": [
    "shapes"
   ]
  },
  {
   "attachments": {},
   "cell_type": "markdown",
   "id": "c91d7281",
   "metadata": {},
   "source": [
    "### 1.4. Zip"
   ]
  },
  {
   "cell_type": "code",
   "execution_count": 17,
   "id": "73b86504",
   "metadata": {},
   "outputs": [],
   "source": [
    "assert len(fibonacci) == 9\n",
    "assert len(square_numbers) == 10"
   ]
  },
  {
   "cell_type": "code",
   "execution_count": 18,
   "id": "8cd8897c",
   "metadata": {},
   "outputs": [
    {
     "name": "stdout",
     "output_type": "stream",
     "text": [
      "Fibonacci: 1. Square: 1\n",
      "Fibonacci: 1. Square: 4\n",
      "Fibonacci: 2. Square: 9\n",
      "Fibonacci: 3. Square: 16\n",
      "Fibonacci: 5. Square: 25\n",
      "Fibonacci: 8. Square: 36\n",
      "Fibonacci: 13. Square: 49\n",
      "Fibonacci: 21. Square: 64\n",
      "Fibonacci: 34. Square: 81\n"
     ]
    }
   ],
   "source": [
    "for fib, square in zip(fibonacci, square_numbers):\n",
    "\n",
    "    print(f\"Fibonacci: {fib}. Square: {square}\")"
   ]
  },
  {
   "cell_type": "code",
   "execution_count": 19,
   "id": "42c1ad9d",
   "metadata": {},
   "outputs": [
    {
     "name": "stdout",
     "output_type": "stream",
     "text": [
      "Last number in fibonacci variable is 34\n",
      "Last number in square_numbers variable is 100\n"
     ]
    }
   ],
   "source": [
    "print(f\"Last number in fibonacci variable is {fibonacci[-1]}\")\n",
    "print(f\"Last number in square_numbers variable is {square_numbers[-1]}\")"
   ]
  },
  {
   "attachments": {},
   "cell_type": "markdown",
   "id": "7cf028e4",
   "metadata": {},
   "source": [
    "Note how we've only fully iterated over the smallest list"
   ]
  },
  {
   "attachments": {},
   "cell_type": "markdown",
   "id": "ecde4815",
   "metadata": {},
   "source": [
    "### 1.5 Generators"
   ]
  },
  {
   "cell_type": "code",
   "execution_count": 20,
   "id": "f1d1da94",
   "metadata": {},
   "outputs": [],
   "source": [
    "def example_generator():\n",
    "\n",
    "    lyrics = [\"Twinkle\", \"twinkle\", \"little\", \"star\"]\n",
    "\n",
    "    for lyric in lyrics:\n",
    "\n",
    "        yield lyric\n"
   ]
  },
  {
   "cell_type": "code",
   "execution_count": 21,
   "id": "08b81b73",
   "metadata": {},
   "outputs": [],
   "source": [
    "generator_lyrics = example_generator()"
   ]
  },
  {
   "cell_type": "code",
   "execution_count": 22,
   "id": "d8c9142f",
   "metadata": {},
   "outputs": [
    {
     "data": {
      "text/plain": [
       "'Twinkle'"
      ]
     },
     "execution_count": 22,
     "metadata": {},
     "output_type": "execute_result"
    }
   ],
   "source": [
    "next(generator_lyrics)"
   ]
  },
  {
   "cell_type": "code",
   "execution_count": 23,
   "id": "801e182b",
   "metadata": {},
   "outputs": [
    {
     "data": {
      "text/plain": [
       "'twinkle'"
      ]
     },
     "execution_count": 23,
     "metadata": {},
     "output_type": "execute_result"
    }
   ],
   "source": [
    "next(generator_lyrics)"
   ]
  },
  {
   "cell_type": "code",
   "execution_count": 24,
   "id": "c2023cf4",
   "metadata": {},
   "outputs": [
    {
     "data": {
      "text/plain": [
       "'little'"
      ]
     },
     "execution_count": 24,
     "metadata": {},
     "output_type": "execute_result"
    }
   ],
   "source": [
    "next(generator_lyrics)"
   ]
  },
  {
   "cell_type": "code",
   "execution_count": 25,
   "id": "b1479756",
   "metadata": {},
   "outputs": [
    {
     "data": {
      "text/plain": [
       "'star'"
      ]
     },
     "execution_count": 25,
     "metadata": {},
     "output_type": "execute_result"
    }
   ],
   "source": [
    "next(generator_lyrics)"
   ]
  },
  {
   "cell_type": "code",
   "execution_count": 26,
   "id": "245416d8",
   "metadata": {},
   "outputs": [
    {
     "name": "stdout",
     "output_type": "stream",
     "text": [
      "Generator is exhausted!\n"
     ]
    }
   ],
   "source": [
    "try:\n",
    "    next(generator_lyrics)\n",
    "except StopIteration:\n",
    "    print(\"Generator is exhausted!\")"
   ]
  },
  {
   "attachments": {},
   "cell_type": "markdown",
   "id": "710d35c1",
   "metadata": {},
   "source": [
    "### 1.6. Lambda Functions"
   ]
  },
  {
   "cell_type": "code",
   "execution_count": 27,
   "id": "84277f75",
   "metadata": {},
   "outputs": [],
   "source": [
    "double_it = lambda x: 2 * x "
   ]
  },
  {
   "cell_type": "code",
   "execution_count": 28,
   "id": "31a0a4e1",
   "metadata": {},
   "outputs": [
    {
     "data": {
      "text/plain": [
       "[0, 2, 4, 6, 8, 10, 12, 14, 16, 18]"
      ]
     },
     "execution_count": 28,
     "metadata": {},
     "output_type": "execute_result"
    }
   ],
   "source": [
    "[double_it(x) for x in list(range(10))]"
   ]
  },
  {
   "attachments": {},
   "cell_type": "markdown",
   "id": "214733b1",
   "metadata": {},
   "source": [
    "###  1.7 Flattening Shallow Lists"
   ]
  },
  {
   "cell_type": "code",
   "execution_count": 29,
   "id": "4ad01d5a",
   "metadata": {},
   "outputs": [
    {
     "data": {
      "text/plain": [
       "[1, 2, 3, 4, 5, 6, 7, 8, 9, 10]"
      ]
     },
     "execution_count": 29,
     "metadata": {},
     "output_type": "execute_result"
    }
   ],
   "source": [
    "list(itertools.chain.from_iterable([\n",
    "    [1, 2, 3],\n",
    "    [4, 5, 6], \n",
    "    [7, 8, 9, 10]\n",
    "]))"
   ]
  },
  {
   "attachments": {},
   "cell_type": "markdown",
   "id": "3551ae7a",
   "metadata": {},
   "source": [
    "Note how this doesn't work for deeply nested lists"
   ]
  },
  {
   "cell_type": "code",
   "execution_count": 30,
   "id": "ca824c6f",
   "metadata": {},
   "outputs": [
    {
     "data": {
      "text/plain": [
       "[1, 2, 3, [4], [5, 6], [7], 8, 9, 10]"
      ]
     },
     "execution_count": 30,
     "metadata": {},
     "output_type": "execute_result"
    }
   ],
   "source": [
    "list(itertools.chain.from_iterable([\n",
    "    [1, 2, 3],\n",
    "    [[4], [5, 6], [7], 8, 9, 10]\n",
    "]))"
   ]
  }
 ],
 "metadata": {
  "kernelspec": {
   "display_name": "venv",
   "language": "python",
   "name": "python3"
  },
  "language_info": {
   "codemirror_mode": {
    "name": "ipython",
    "version": 3
   },
   "file_extension": ".py",
   "mimetype": "text/x-python",
   "name": "python",
   "nbconvert_exporter": "python",
   "pygments_lexer": "ipython3",
   "version": "3.10.2"
  },
  "vscode": {
   "interpreter": {
    "hash": "4eba648b5f954726739e801e98f256401d07dfb86dd78374a857c51219b47d6e"
   }
  }
 },
 "nbformat": 4,
 "nbformat_minor": 5
}
