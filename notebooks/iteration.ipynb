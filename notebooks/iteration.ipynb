{
 "cells": [
  {
   "cell_type": "markdown",
   "id": "f19530f9",
   "metadata": {},
   "source": [
    "# Iteration"
   ]
  },
  {
   "attachments": {},
   "cell_type": "markdown",
   "id": "04464c3a",
   "metadata": {},
   "source": [
    "* List comprehensions\n",
    "* Enumeration\n",
    "* Dictionary comprehensions\n",
    "* Simultaneous iteration with `zip()`\n",
    "* Lambda functions\n",
    "* Generators"
   ]
  },
  {
   "attachments": {},
   "cell_type": "markdown",
   "id": "880e9604",
   "metadata": {},
   "source": [
    "## 1. Setup"
   ]
  },
  {
   "attachments": {},
   "cell_type": "markdown",
   "id": "0ecd1768",
   "metadata": {},
   "source": [
    "Imports"
   ]
  },
  {
   "cell_type": "code",
   "execution_count": 1,
   "id": "a7c09e3f",
   "metadata": {},
   "outputs": [],
   "source": [
    "# Standard library imports\n",
    "import itertools\n",
    "from collections.abc import Iterable\n",
    "from typing import Generator"
   ]
  },
  {
   "attachments": {},
   "cell_type": "markdown",
   "id": "51775012",
   "metadata": {},
   "source": [
    "## 2. Tips & Tricks"
   ]
  },
  {
   "attachments": {},
   "cell_type": "markdown",
   "id": "042772fe",
   "metadata": {},
   "source": [
    "### 2.1 List Comprehensions"
   ]
  },
  {
   "cell_type": "code",
   "execution_count": 2,
   "id": "7b3aaa9a",
   "metadata": {},
   "outputs": [],
   "source": [
    "# 10 square numbers\n",
    "square_numbers = [i**2 for i in range(1, 11)]"
   ]
  },
  {
   "cell_type": "code",
   "execution_count": 3,
   "id": "b3c2558c",
   "metadata": {},
   "outputs": [
    {
     "data": {
      "text/plain": [
       "[1, 4, 9, 16, 25, 36, 49, 64, 81, 100]"
      ]
     },
     "execution_count": 3,
     "metadata": {},
     "output_type": "execute_result"
    }
   ],
   "source": [
    "square_numbers"
   ]
  },
  {
   "attachments": {},
   "cell_type": "markdown",
   "id": "e3db94fd",
   "metadata": {},
   "source": [
    "### 2.2 Enumerate"
   ]
  },
  {
   "cell_type": "code",
   "execution_count": 4,
   "id": "61251014",
   "metadata": {},
   "outputs": [],
   "source": [
    "# 9 numbers from the fibonacci sequence\n",
    "fibonacci = [1, 1, 2, 3, 5, 8, 13, 21, 34]"
   ]
  },
  {
   "cell_type": "code",
   "execution_count": 5,
   "id": "5431b61a",
   "metadata": {},
   "outputs": [
    {
     "name": "stdout",
     "output_type": "stream",
     "text": [
      "At index position 0, is the fibonacci number 1\n",
      "At index position 1, is the fibonacci number 1\n",
      "At index position 2, is the fibonacci number 2\n",
      "At index position 3, is the fibonacci number 3\n",
      "At index position 4, is the fibonacci number 5\n",
      "At index position 5, is the fibonacci number 8\n",
      "At index position 6, is the fibonacci number 13\n",
      "At index position 7, is the fibonacci number 21\n",
      "At index position 8, is the fibonacci number 34\n"
     ]
    }
   ],
   "source": [
    "for i, f in enumerate(fibonacci):\n",
    "\n",
    "    print(f\"At index position {i}, is the fibonacci number {f}\")"
   ]
  },
  {
   "attachments": {},
   "cell_type": "markdown",
   "id": "f272242d",
   "metadata": {},
   "source": [
    "### 2.3 Dictionary Comprehensions and Zip"
   ]
  },
  {
   "cell_type": "code",
   "execution_count": 6,
   "id": "ff095fde",
   "metadata": {},
   "outputs": [],
   "source": [
    "shape_name = [\"triangle\", \"square\", \"rhombus\", \"pentagon\", \"octagon\"]\n",
    "shape_sides = [3, 4, 4, 5, 8]\n",
    "\n",
    "shapes = {name: sides for name, sides in zip(shape_name, shape_sides)}"
   ]
  },
  {
   "cell_type": "code",
   "execution_count": 7,
   "id": "1b711360",
   "metadata": {},
   "outputs": [
    {
     "data": {
      "text/plain": [
       "{'triangle': 3, 'square': 4, 'rhombus': 4, 'pentagon': 5, 'octagon': 8}"
      ]
     },
     "execution_count": 7,
     "metadata": {},
     "output_type": "execute_result"
    }
   ],
   "source": [
    "shapes"
   ]
  },
  {
   "attachments": {},
   "cell_type": "markdown",
   "id": "c91d7281",
   "metadata": {},
   "source": [
    "### 2.4 Zip"
   ]
  },
  {
   "cell_type": "code",
   "execution_count": 8,
   "id": "73b86504",
   "metadata": {},
   "outputs": [],
   "source": [
    "assert len(fibonacci) == 9\n",
    "assert len(square_numbers) == 10"
   ]
  },
  {
   "cell_type": "code",
   "execution_count": 9,
   "id": "8cd8897c",
   "metadata": {},
   "outputs": [
    {
     "name": "stdout",
     "output_type": "stream",
     "text": [
      "Fibonacci: 1. Square: 1\n",
      "Fibonacci: 1. Square: 4\n",
      "Fibonacci: 2. Square: 9\n",
      "Fibonacci: 3. Square: 16\n",
      "Fibonacci: 5. Square: 25\n",
      "Fibonacci: 8. Square: 36\n",
      "Fibonacci: 13. Square: 49\n",
      "Fibonacci: 21. Square: 64\n",
      "Fibonacci: 34. Square: 81\n"
     ]
    }
   ],
   "source": [
    "for fib, square in zip(fibonacci, square_numbers):\n",
    "\n",
    "    print(f\"Fibonacci: {fib}. Square: {square}\")"
   ]
  },
  {
   "cell_type": "code",
   "execution_count": 10,
   "id": "42c1ad9d",
   "metadata": {},
   "outputs": [
    {
     "name": "stdout",
     "output_type": "stream",
     "text": [
      "Last number in fibonacci variable is 34\n",
      "Last number in square_numbers variable is 100\n"
     ]
    }
   ],
   "source": [
    "print(f\"Last number in fibonacci variable is {fibonacci[-1]}\")\n",
    "print(f\"Last number in square_numbers variable is {square_numbers[-1]}\")"
   ]
  },
  {
   "attachments": {},
   "cell_type": "markdown",
   "id": "7cf028e4",
   "metadata": {},
   "source": [
    "Note how we've only fully iterated over the smallest list"
   ]
  },
  {
   "attachments": {},
   "cell_type": "markdown",
   "id": "ecde4815",
   "metadata": {},
   "source": [
    "### 2.5 Generators"
   ]
  },
  {
   "cell_type": "code",
   "execution_count": 11,
   "id": "f1d1da94",
   "metadata": {},
   "outputs": [],
   "source": [
    "def example_generator() -> Generator:\n",
    "    \"\"\"Example generator.\n",
    "\n",
    "    Returns:\n",
    "        Generator: First four lyrics\n",
    "    \"\"\"\n",
    "    lyrics = [\"Twinkle\", \"twinkle\", \"little\", \"star\"]\n",
    "\n",
    "    for lyric in lyrics:\n",
    "\n",
    "        yield lyric\n"
   ]
  },
  {
   "cell_type": "code",
   "execution_count": 12,
   "id": "08b81b73",
   "metadata": {},
   "outputs": [],
   "source": [
    "generator_lyrics = example_generator()"
   ]
  },
  {
   "cell_type": "code",
   "execution_count": 13,
   "id": "d8c9142f",
   "metadata": {},
   "outputs": [
    {
     "data": {
      "text/plain": [
       "'Twinkle'"
      ]
     },
     "execution_count": 13,
     "metadata": {},
     "output_type": "execute_result"
    }
   ],
   "source": [
    "next(generator_lyrics)"
   ]
  },
  {
   "cell_type": "code",
   "execution_count": 14,
   "id": "801e182b",
   "metadata": {},
   "outputs": [
    {
     "data": {
      "text/plain": [
       "'twinkle'"
      ]
     },
     "execution_count": 14,
     "metadata": {},
     "output_type": "execute_result"
    }
   ],
   "source": [
    "next(generator_lyrics)"
   ]
  },
  {
   "cell_type": "code",
   "execution_count": 15,
   "id": "c2023cf4",
   "metadata": {},
   "outputs": [
    {
     "data": {
      "text/plain": [
       "'little'"
      ]
     },
     "execution_count": 15,
     "metadata": {},
     "output_type": "execute_result"
    }
   ],
   "source": [
    "next(generator_lyrics)"
   ]
  },
  {
   "cell_type": "code",
   "execution_count": 16,
   "id": "b1479756",
   "metadata": {},
   "outputs": [
    {
     "data": {
      "text/plain": [
       "'star'"
      ]
     },
     "execution_count": 16,
     "metadata": {},
     "output_type": "execute_result"
    }
   ],
   "source": [
    "next(generator_lyrics)"
   ]
  },
  {
   "cell_type": "code",
   "execution_count": 17,
   "id": "245416d8",
   "metadata": {},
   "outputs": [
    {
     "name": "stdout",
     "output_type": "stream",
     "text": [
      "Generator is exhausted!\n"
     ]
    }
   ],
   "source": [
    "try:\n",
    "    next(generator_lyrics)\n",
    "except StopIteration:\n",
    "    print(\"Generator is exhausted!\")"
   ]
  },
  {
   "attachments": {},
   "cell_type": "markdown",
   "id": "6be69deb",
   "metadata": {},
   "source": [
    "When would you use a generator?"
   ]
  },
  {
   "cell_type": "code",
   "execution_count": 18,
   "id": "61efd02f",
   "metadata": {},
   "outputs": [],
   "source": [
    "def csv_generator(filepath: str) -> Generator:\n",
    "    \"\"\"Generator to read large csv files row by row.\n",
    "\n",
    "    Args:\n",
    "        filepath (str): filepath to csv file\n",
    "\n",
    "    Returns:\n",
    "        Generator: Row generator for csv file\n",
    "    \"\"\"\n",
    "    # Massive file that cannot be read into memory\n",
    "    for row in open(filepath, \"r\"):\n",
    "\n",
    "        yield row"
   ]
  },
  {
   "attachments": {},
   "cell_type": "markdown",
   "id": "710d35c1",
   "metadata": {},
   "source": [
    "### 2.6 Lambda Functions"
   ]
  },
  {
   "cell_type": "code",
   "execution_count": 19,
   "id": "84277f75",
   "metadata": {},
   "outputs": [],
   "source": [
    "double_it = lambda x: 2 * x "
   ]
  },
  {
   "cell_type": "code",
   "execution_count": 20,
   "id": "31a0a4e1",
   "metadata": {},
   "outputs": [
    {
     "data": {
      "text/plain": [
       "[0, 2, 4, 6, 8, 10, 12, 14, 16, 18]"
      ]
     },
     "execution_count": 20,
     "metadata": {},
     "output_type": "execute_result"
    }
   ],
   "source": [
    "[double_it(x) for x in range(10)]"
   ]
  },
  {
   "attachments": {},
   "cell_type": "markdown",
   "id": "214733b1",
   "metadata": {},
   "source": [
    "###  2.7 Flattening Lists"
   ]
  },
  {
   "attachments": {},
   "cell_type": "markdown",
   "id": "0c392323",
   "metadata": {},
   "source": [
    "#### 2.7.1 Shallow Lists"
   ]
  },
  {
   "cell_type": "code",
   "execution_count": 21,
   "id": "b8c0eb63",
   "metadata": {},
   "outputs": [],
   "source": [
    "shallow_list = [\n",
    "    [1, 2, 3],\n",
    "    [4, 5, 6], \n",
    "    [7, 8, 9, 10]\n",
    "]"
   ]
  },
  {
   "cell_type": "code",
   "execution_count": 22,
   "id": "4ad01d5a",
   "metadata": {},
   "outputs": [
    {
     "data": {
      "text/plain": [
       "[1, 2, 3, 4, 5, 6, 7, 8, 9, 10]"
      ]
     },
     "execution_count": 22,
     "metadata": {},
     "output_type": "execute_result"
    }
   ],
   "source": [
    "list(itertools.chain.from_iterable(shallow_list))"
   ]
  },
  {
   "attachments": {},
   "cell_type": "markdown",
   "id": "3551ae7a",
   "metadata": {},
   "source": [
    "Note how this doesn't work for deeply nested lists"
   ]
  },
  {
   "cell_type": "code",
   "execution_count": 23,
   "id": "617b9a04",
   "metadata": {},
   "outputs": [],
   "source": [
    "deep_list = [\n",
    "    [1, 2, 3],\n",
    "    [[4], [5, 6], [7, [8], 9], 10]\n",
    "]"
   ]
  },
  {
   "cell_type": "code",
   "execution_count": 24,
   "id": "ca824c6f",
   "metadata": {},
   "outputs": [
    {
     "data": {
      "text/plain": [
       "[1, 2, 3, [4], [5, 6], [7, [8], 9], 10]"
      ]
     },
     "execution_count": 24,
     "metadata": {},
     "output_type": "execute_result"
    }
   ],
   "source": [
    "list(itertools.chain.from_iterable(deep_list))"
   ]
  },
  {
   "attachments": {},
   "cell_type": "markdown",
   "id": "8463ce45",
   "metadata": {},
   "source": [
    "#### 2.7.2 Deep Lists"
   ]
  },
  {
   "cell_type": "code",
   "execution_count": 25,
   "id": "ceb04ec5",
   "metadata": {},
   "outputs": [],
   "source": [
    "def flatten(nested_list: list) -> list:\n",
    "    \"\"\"Flatten a deeply nested list.\n",
    "\n",
    "    Args:\n",
    "        nested_list (list): List to flatten\n",
    "\n",
    "    Returns:\n",
    "        list: Flattened list\n",
    "    \"\"\"\n",
    "    def _flatten(nested_list: list) -> Generator:\n",
    "        \"\"\"Flatten a deeply nested list.\n",
    "\n",
    "        Args:\n",
    "            nested_list (list): List to flatten\n",
    "\n",
    "        Returns:\n",
    "            Generator: Generator for the flattened list.\n",
    "        \"\"\"\n",
    "        # Loop through nested list\n",
    "        for x in nested_list:\n",
    "\n",
    "            # If the item is iterable but not a string or byte\n",
    "            if isinstance(x, Iterable) and not isinstance(x, (bytes, str)):\n",
    "                yield from flatten(nested_list=x)\n",
    "\n",
    "            # If the item is not a type we want to iterate through\n",
    "            else:\n",
    "                yield x\n",
    "\n",
    "    return list(_flatten(nested_list=nested_list))"
   ]
  },
  {
   "cell_type": "code",
   "execution_count": 26,
   "id": "10d19b09",
   "metadata": {},
   "outputs": [
    {
     "data": {
      "text/plain": [
       "[1, 2, 3, 4, 5, 6, 7, 8, 9, 10]"
      ]
     },
     "execution_count": 26,
     "metadata": {},
     "output_type": "execute_result"
    }
   ],
   "source": [
    "flatten(nested_list=deep_list)"
   ]
  },
  {
   "attachments": {},
   "cell_type": "markdown",
   "id": "bc580780",
   "metadata": {},
   "source": [
    "### 2.8 Combinations"
   ]
  },
  {
   "cell_type": "code",
   "execution_count": 27,
   "id": "df46f7c4",
   "metadata": {},
   "outputs": [],
   "source": [
    "colours = [\"red\", \"yellow\", \"blue\"]\n",
    "\n",
    "vehicles = [\"car\", \"motorbike\", \"bicycle\"]"
   ]
  },
  {
   "cell_type": "code",
   "execution_count": 28,
   "id": "2f2216ab",
   "metadata": {},
   "outputs": [
    {
     "data": {
      "text/plain": [
       "[('red', 'car'),\n",
       " ('red', 'motorbike'),\n",
       " ('red', 'bicycle'),\n",
       " ('yellow', 'car'),\n",
       " ('yellow', 'motorbike'),\n",
       " ('yellow', 'bicycle'),\n",
       " ('blue', 'car'),\n",
       " ('blue', 'motorbike'),\n",
       " ('blue', 'bicycle')]"
      ]
     },
     "execution_count": 28,
     "metadata": {},
     "output_type": "execute_result"
    }
   ],
   "source": [
    "list(itertools.product(colours, vehicles))"
   ]
  }
 ],
 "metadata": {
  "kernelspec": {
   "display_name": "venv",
   "language": "python",
   "name": "python3"
  },
  "language_info": {
   "codemirror_mode": {
    "name": "ipython",
    "version": 3
   },
   "file_extension": ".py",
   "mimetype": "text/x-python",
   "name": "python",
   "nbconvert_exporter": "python",
   "pygments_lexer": "ipython3",
   "version": "3.10.2"
  },
  "vscode": {
   "interpreter": {
    "hash": "5cbee1fd24d3d841d4a4b7c6f5a1199e9642762a56f349626ef18cc0620592d4"
   }
  }
 },
 "nbformat": 4,
 "nbformat_minor": 5
}
