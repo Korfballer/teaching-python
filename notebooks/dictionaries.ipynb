{
 "cells": [
  {
   "attachments": {},
   "cell_type": "markdown",
   "id": "f19530f9",
   "metadata": {},
   "source": [
    "# Dictionaries"
   ]
  },
  {
   "attachments": {},
   "cell_type": "markdown",
   "id": "880e9604",
   "metadata": {},
   "source": [
    "## 1. Setup"
   ]
  },
  {
   "cell_type": "code",
   "execution_count": 1,
   "id": "a7c09e3f",
   "metadata": {},
   "outputs": [],
   "source": [
    "# Standard library imports\n",
    "from copy import copy, deepcopy"
   ]
  },
  {
   "attachments": {},
   "cell_type": "markdown",
   "id": "51775012",
   "metadata": {},
   "source": [
    "## 2. Tips & Tricks"
   ]
  },
  {
   "attachments": {},
   "cell_type": "markdown",
   "id": "85f5da9a",
   "metadata": {},
   "source": [
    "### 2.1 Nested dictionary comprehensions"
   ]
  },
  {
   "cell_type": "code",
   "execution_count": 2,
   "id": "36bc1791",
   "metadata": {},
   "outputs": [],
   "source": [
    "valid_labels = {\n",
    "    \"Category_1\": [\"tag-1a\", \"tag-1b\", \"tag-1c\"],\n",
    "    \"Category_2\": [\"tag-2a\", \"tag-2b\", \"tag-2c\"],\n",
    "    \"Category_3\": [\"tag-3a\", \"tag-3b\", \"tag-3c\"],\n",
    "    }"
   ]
  },
  {
   "attachments": {},
   "cell_type": "markdown",
   "id": "56506e33",
   "metadata": {},
   "source": [
    "See below how you can use multiple `for` statements in a single dictionary comprehension."
   ]
  },
  {
   "cell_type": "code",
   "execution_count": 3,
   "id": "08228751",
   "metadata": {},
   "outputs": [
    {
     "data": {
      "text/plain": [
       "{'tag-1a': 'Category_1',\n",
       " 'tag-1b': 'Category_1',\n",
       " 'tag-1c': 'Category_1',\n",
       " 'tag-2a': 'Category_2',\n",
       " 'tag-2b': 'Category_2',\n",
       " 'tag-2c': 'Category_2',\n",
       " 'tag-3a': 'Category_3',\n",
       " 'tag-3b': 'Category_3',\n",
       " 'tag-3c': 'Category_3'}"
      ]
     },
     "execution_count": 3,
     "metadata": {},
     "output_type": "execute_result"
    }
   ],
   "source": [
    "{v: key for key, val in valid_labels.items() for v in val}"
   ]
  },
  {
   "attachments": {},
   "cell_type": "markdown",
   "id": "042772fe",
   "metadata": {},
   "source": [
    "### 2.2 Deep copy"
   ]
  },
  {
   "attachments": {},
   "cell_type": "markdown",
   "id": "b2011a0c",
   "metadata": {},
   "source": [
    "#### 2.2.1 Default args"
   ]
  },
  {
   "cell_type": "code",
   "execution_count": 4,
   "id": "7b3aaa9a",
   "metadata": {},
   "outputs": [],
   "source": [
    "def create_a_dictionary(keys: list, values: list, dct: dict = {}) -> dict:\n",
    "    \"\"\"Example function to demonstrate not obvious behaviour.\n",
    "\n",
    "    Args:\n",
    "        keys (list): Keys to add to the dictionary.\n",
    "        value (list): Values to add to the dictionary.\n",
    "        dct (dict, optional): Dictionary to add to. Defaults to {}.\n",
    "\n",
    "    Returns:\n",
    "        dict: Dictionary with new key-value pairs\n",
    "    \"\"\"\n",
    "    for key, value in zip(keys, values):\n",
    "\n",
    "        dct[key] = value\n",
    "\n",
    "    return dct"
   ]
  },
  {
   "attachments": {},
   "cell_type": "markdown",
   "id": "ab48982a",
   "metadata": {},
   "source": [
    "When calling the function for the first time, the results seem sensible..."
   ]
  },
  {
   "cell_type": "code",
   "execution_count": 5,
   "id": "357272d6",
   "metadata": {},
   "outputs": [
    {
     "data": {
      "text/plain": [
       "{1: 'one', 2: 'two', 3: 'three'}"
      ]
     },
     "execution_count": 5,
     "metadata": {},
     "output_type": "execute_result"
    }
   ],
   "source": [
    "create_a_dictionary(keys=[1, 2, 3], values=[\"one\", \"two\", \"three\"])"
   ]
  },
  {
   "attachments": {},
   "cell_type": "markdown",
   "id": "a8366f08",
   "metadata": {},
   "source": [
    "When calling the function a second time, the function has \"remembered\" the inputs it was called with all previous times...!"
   ]
  },
  {
   "cell_type": "code",
   "execution_count": 6,
   "id": "cb7cd262",
   "metadata": {},
   "outputs": [
    {
     "data": {
      "text/plain": [
       "{1: 'one', 2: 'two', 3: 'three', 4: 'four'}"
      ]
     },
     "execution_count": 6,
     "metadata": {},
     "output_type": "execute_result"
    }
   ],
   "source": [
    "create_a_dictionary(keys=[4], values=[\"four\"])"
   ]
  },
  {
   "cell_type": "markdown",
   "id": "f25a86d4",
   "metadata": {},
   "source": [
    "#### 2.3 Deep copy"
   ]
  },
  {
   "cell_type": "code",
   "execution_count": 7,
   "id": "5de8115f",
   "metadata": {},
   "outputs": [],
   "source": [
    "original = {\"hello\": \"goodbye\"}"
   ]
  },
  {
   "cell_type": "code",
   "execution_count": 8,
   "id": "7ab6d78e",
   "metadata": {},
   "outputs": [
    {
     "data": {
      "text/plain": [
       "{'hello': 'goodbye'}"
      ]
     },
     "execution_count": 8,
     "metadata": {},
     "output_type": "execute_result"
    }
   ],
   "source": [
    "original"
   ]
  },
  {
   "cell_type": "code",
   "execution_count": 9,
   "id": "59ca3bc3",
   "metadata": {},
   "outputs": [],
   "source": [
    "new = original"
   ]
  },
  {
   "cell_type": "code",
   "execution_count": 10,
   "id": "a9951657",
   "metadata": {},
   "outputs": [
    {
     "data": {
      "text/plain": [
       "{'hello': 'goodbye'}"
      ]
     },
     "execution_count": 10,
     "metadata": {},
     "output_type": "execute_result"
    }
   ],
   "source": [
    "new"
   ]
  },
  {
   "attachments": {},
   "cell_type": "markdown",
   "id": "a4737730",
   "metadata": {},
   "source": [
    "Add a key-value pair to `new`"
   ]
  },
  {
   "cell_type": "code",
   "execution_count": 11,
   "id": "1eb1b6be",
   "metadata": {},
   "outputs": [],
   "source": [
    "new[\"bonjour\"] = \"au revoir\""
   ]
  },
  {
   "cell_type": "code",
   "execution_count": 12,
   "id": "df832de4",
   "metadata": {},
   "outputs": [
    {
     "data": {
      "text/plain": [
       "{'hello': 'goodbye', 'bonjour': 'au revoir'}"
      ]
     },
     "execution_count": 12,
     "metadata": {},
     "output_type": "execute_result"
    }
   ],
   "source": [
    "new"
   ]
  },
  {
   "attachments": {},
   "cell_type": "markdown",
   "id": "74eedc3d",
   "metadata": {},
   "source": [
    "By changing `new`, we've also changed `original` ...woops!"
   ]
  },
  {
   "cell_type": "code",
   "execution_count": 13,
   "id": "e0764bf2",
   "metadata": {},
   "outputs": [
    {
     "data": {
      "text/plain": [
       "{'hello': 'goodbye', 'bonjour': 'au revoir'}"
      ]
     },
     "execution_count": 13,
     "metadata": {},
     "output_type": "execute_result"
    }
   ],
   "source": [
    "original"
   ]
  },
  {
   "attachments": {},
   "cell_type": "markdown",
   "id": "40ae7332",
   "metadata": {},
   "source": [
    "Now try that again with `copy()`..."
   ]
  },
  {
   "cell_type": "code",
   "execution_count": 14,
   "id": "2e449cdb",
   "metadata": {},
   "outputs": [],
   "source": [
    "original_2 = {\"hello\": \"goodbye\"}"
   ]
  },
  {
   "cell_type": "code",
   "execution_count": 15,
   "id": "bd78989e",
   "metadata": {},
   "outputs": [],
   "source": [
    "new_2 = copy(original_2)"
   ]
  },
  {
   "cell_type": "code",
   "execution_count": 16,
   "id": "cd4a385f",
   "metadata": {},
   "outputs": [],
   "source": [
    "new_2[\"bonjour\"] = \"au revoir\""
   ]
  },
  {
   "cell_type": "code",
   "execution_count": 17,
   "id": "ae90b72e",
   "metadata": {},
   "outputs": [
    {
     "data": {
      "text/plain": [
       "{'hello': 'goodbye', 'bonjour': 'au revoir'}"
      ]
     },
     "execution_count": 17,
     "metadata": {},
     "output_type": "execute_result"
    }
   ],
   "source": [
    "new_2"
   ]
  },
  {
   "cell_type": "code",
   "execution_count": 18,
   "id": "27dd8497",
   "metadata": {},
   "outputs": [
    {
     "data": {
      "text/plain": [
       "{'hello': 'goodbye'}"
      ]
     },
     "execution_count": 18,
     "metadata": {},
     "output_type": "execute_result"
    }
   ],
   "source": [
    "original_2"
   ]
  },
  {
   "attachments": {},
   "cell_type": "markdown",
   "id": "b9e06d73",
   "metadata": {},
   "source": [
    "That seems to have solved the problem... so why do we have `deepcopy()`? Try the same but with a double-nested dictionary..."
   ]
  },
  {
   "cell_type": "code",
   "execution_count": 19,
   "id": "d2176663",
   "metadata": {},
   "outputs": [],
   "source": [
    "original_3 = {\"hello\": {\"formal\": \"goodbye\", \"informal\": \"bye\"}}"
   ]
  },
  {
   "cell_type": "code",
   "execution_count": 20,
   "id": "2dffea6a",
   "metadata": {},
   "outputs": [],
   "source": [
    "new_3 = copy(original_3)"
   ]
  },
  {
   "cell_type": "code",
   "execution_count": 21,
   "id": "8bc09c60",
   "metadata": {},
   "outputs": [],
   "source": [
    "new_3[\"hello\"][\"slang\"] = \"cya\""
   ]
  },
  {
   "cell_type": "code",
   "execution_count": 22,
   "id": "b0dec868",
   "metadata": {},
   "outputs": [
    {
     "data": {
      "text/plain": [
       "{'hello': {'formal': 'goodbye', 'informal': 'bye', 'slang': 'cya'}}"
      ]
     },
     "execution_count": 22,
     "metadata": {},
     "output_type": "execute_result"
    }
   ],
   "source": [
    "new_3"
   ]
  },
  {
   "attachments": {},
   "cell_type": "markdown",
   "id": "9bfe4c2e",
   "metadata": {},
   "source": [
    "What?! It's done it again: changed the original dictionary...!"
   ]
  },
  {
   "cell_type": "code",
   "execution_count": 23,
   "id": "bcb901ba",
   "metadata": {},
   "outputs": [
    {
     "data": {
      "text/plain": [
       "{'hello': {'formal': 'goodbye', 'informal': 'bye', 'slang': 'cya'}}"
      ]
     },
     "execution_count": 23,
     "metadata": {},
     "output_type": "execute_result"
    }
   ],
   "source": [
    "original_3"
   ]
  },
  {
   "attachments": {},
   "cell_type": "markdown",
   "id": "10fa4581",
   "metadata": {},
   "source": [
    "Now try it with `deepcopy()`..."
   ]
  },
  {
   "cell_type": "code",
   "execution_count": 24,
   "id": "40594a1a",
   "metadata": {},
   "outputs": [],
   "source": [
    "original_4 = {\"hello\": {\"formal\": \"goodbye\", \"informal\": \"bye\"}}"
   ]
  },
  {
   "cell_type": "code",
   "execution_count": 25,
   "id": "d041a981",
   "metadata": {},
   "outputs": [],
   "source": [
    "new_4 = deepcopy(original_4)"
   ]
  },
  {
   "cell_type": "code",
   "execution_count": 26,
   "id": "cbba3379",
   "metadata": {},
   "outputs": [],
   "source": [
    "new_4[\"hello\"][\"slang\"] = \"cya\""
   ]
  },
  {
   "cell_type": "code",
   "execution_count": 27,
   "id": "07b2b3c2",
   "metadata": {},
   "outputs": [
    {
     "data": {
      "text/plain": [
       "{'hello': {'formal': 'goodbye', 'informal': 'bye', 'slang': 'cya'}}"
      ]
     },
     "execution_count": 27,
     "metadata": {},
     "output_type": "execute_result"
    }
   ],
   "source": [
    "new_4"
   ]
  },
  {
   "cell_type": "code",
   "execution_count": 28,
   "id": "3509d8b9",
   "metadata": {},
   "outputs": [
    {
     "data": {
      "text/plain": [
       "{'hello': {'formal': 'goodbye', 'informal': 'bye'}}"
      ]
     },
     "execution_count": 28,
     "metadata": {},
     "output_type": "execute_result"
    }
   ],
   "source": [
    "original_4"
   ]
  },
  {
   "attachments": {},
   "cell_type": "markdown",
   "id": "9d846eaf",
   "metadata": {},
   "source": [
    "Moral of the story: if unsure, always use deepcopy!"
   ]
  }
 ],
 "metadata": {
  "kernelspec": {
   "display_name": "venv",
   "language": "python",
   "name": "python3"
  },
  "language_info": {
   "codemirror_mode": {
    "name": "ipython",
    "version": 3
   },
   "file_extension": ".py",
   "mimetype": "text/x-python",
   "name": "python",
   "nbconvert_exporter": "python",
   "pygments_lexer": "ipython3",
   "version": "3.10.2"
  },
  "vscode": {
   "interpreter": {
    "hash": "5cbee1fd24d3d841d4a4b7c6f5a1199e9642762a56f349626ef18cc0620592d4"
   }
  }
 },
 "nbformat": 4,
 "nbformat_minor": 5
}
